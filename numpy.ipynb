{
 "cells": [
  {
   "cell_type": "code",
   "execution_count": 4,
   "id": "4e7e69a1",
   "metadata": {},
   "outputs": [],
   "source": [
    "import numpy as np"
   ]
  },
  {
   "cell_type": "code",
   "execution_count": 26,
   "id": "29c18554",
   "metadata": {},
   "outputs": [
    {
     "data": {
      "text/plain": [
       "2"
      ]
     },
     "execution_count": 26,
     "metadata": {},
     "output_type": "execute_result"
    }
   ],
   "source": [
    "np.random.randint(1, 10)"
   ]
  },
  {
   "cell_type": "code",
   "execution_count": 29,
   "id": "c212caf6",
   "metadata": {},
   "outputs": [
    {
     "data": {
      "text/plain": [
       "array([[-0.3943715 ,  0.33195104,  0.35846644,  0.74488894, -0.64110516],\n",
       "       [ 1.31559025,  0.57985091, -0.68184758,  0.42151133, -0.25909637],\n",
       "       [-0.75417265, -1.82407994,  0.87239039,  0.82692895, -0.04626388],\n",
       "       [-0.08419976, -0.28927778, -1.00454507, -0.88120469, -0.87778749]])"
      ]
     },
     "execution_count": 29,
     "metadata": {},
     "output_type": "execute_result"
    }
   ],
   "source": [
    "np.random.standard_normal(20).reshape(4,5)"
   ]
  },
  {
   "cell_type": "code",
   "execution_count": 30,
   "id": "2ebca61e",
   "metadata": {},
   "outputs": [
    {
     "data": {
      "text/plain": [
       "array([[ 1.21809644,  0.7465356 , -1.43202349, -1.69394645,  0.45003617],\n",
       "       [-1.29843849,  0.99677516,  1.16878103,  1.27828892,  2.39000107],\n",
       "       [ 1.35516218, -1.8416305 ,  0.10500183, -0.0153459 ,  1.15630382],\n",
       "       [ 1.35752461,  0.26176401, -0.70752432,  0.79759233,  0.7461147 ],\n",
       "       [-0.59654717, -0.13459872,  0.00295839, -0.01450619, -0.72143099]])"
      ]
     },
     "execution_count": 30,
     "metadata": {},
     "output_type": "execute_result"
    }
   ],
   "source": [
    "np.random.standard_normal(25).reshape(5, 5)"
   ]
  },
  {
   "cell_type": "code",
   "execution_count": 5,
   "id": "b4c950cd",
   "metadata": {},
   "outputs": [
    {
     "data": {
      "text/plain": [
       "array([[-0.79822668,  1.08324291,  1.18741791, -1.81514683, -0.5526312 ,\n",
       "        -2.14801205],\n",
       "       [ 0.65756719, -1.95829365,  0.80898975, -0.76313845,  1.27288213,\n",
       "         0.83221413],\n",
       "       [ 1.7293502 ,  0.33945261, -0.28875332,  0.74500233, -0.63264943,\n",
       "         2.08645458],\n",
       "       [ 0.32916713, -0.07577718,  0.58519023, -0.69434282, -0.16756673,\n",
       "         0.22065884],\n",
       "       [-0.39008348,  0.50880132,  0.66118296,  1.4762543 , -0.26290428,\n",
       "        -1.6009673 ],\n",
       "       [ 0.7755142 ,  0.044661  ,  1.38586512,  0.90591119, -0.73191161,\n",
       "        -1.59767971]])"
      ]
     },
     "execution_count": 5,
     "metadata": {},
     "output_type": "execute_result"
    }
   ],
   "source": [
    "np.random.standard_normal(36).reshape(6, 6)"
   ]
  }
 ],
 "metadata": {
  "kernelspec": {
   "display_name": "Python 3",
   "language": "python",
   "name": "python3"
  },
  "language_info": {
   "codemirror_mode": {
    "name": "ipython",
    "version": 3
   },
   "file_extension": ".py",
   "mimetype": "text/x-python",
   "name": "python",
   "nbconvert_exporter": "python",
   "pygments_lexer": "ipython3",
   "version": "3.12.5"
  }
 },
 "nbformat": 4,
 "nbformat_minor": 5
}
