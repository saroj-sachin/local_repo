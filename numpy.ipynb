{
 "cells": [
  {
   "cell_type": "code",
   "execution_count": 1,
   "id": "4e7e69a1",
   "metadata": {},
   "outputs": [],
   "source": [
    "import numpy as np"
   ]
  },
  {
   "cell_type": "code",
   "execution_count": 26,
   "id": "29c18554",
   "metadata": {},
   "outputs": [
    {
     "data": {
      "text/plain": [
       "2"
      ]
     },
     "execution_count": 26,
     "metadata": {},
     "output_type": "execute_result"
    }
   ],
   "source": [
    "np.random.randint(1, 10)"
   ]
  },
  {
   "cell_type": "code",
   "execution_count": 29,
   "id": "c212caf6",
   "metadata": {},
   "outputs": [
    {
     "data": {
      "text/plain": [
       "array([[-0.3943715 ,  0.33195104,  0.35846644,  0.74488894, -0.64110516],\n",
       "       [ 1.31559025,  0.57985091, -0.68184758,  0.42151133, -0.25909637],\n",
       "       [-0.75417265, -1.82407994,  0.87239039,  0.82692895, -0.04626388],\n",
       "       [-0.08419976, -0.28927778, -1.00454507, -0.88120469, -0.87778749]])"
      ]
     },
     "execution_count": 29,
     "metadata": {},
     "output_type": "execute_result"
    }
   ],
   "source": [
    "np.random.standard_normal(20).reshape(4,5)"
   ]
  },
  {
   "cell_type": "code",
   "execution_count": 30,
   "id": "2ebca61e",
   "metadata": {},
   "outputs": [
    {
     "data": {
      "text/plain": [
       "array([[ 1.21809644,  0.7465356 , -1.43202349, -1.69394645,  0.45003617],\n",
       "       [-1.29843849,  0.99677516,  1.16878103,  1.27828892,  2.39000107],\n",
       "       [ 1.35516218, -1.8416305 ,  0.10500183, -0.0153459 ,  1.15630382],\n",
       "       [ 1.35752461,  0.26176401, -0.70752432,  0.79759233,  0.7461147 ],\n",
       "       [-0.59654717, -0.13459872,  0.00295839, -0.01450619, -0.72143099]])"
      ]
     },
     "execution_count": 30,
     "metadata": {},
     "output_type": "execute_result"
    }
   ],
   "source": [
    "np.random.standard_normal(25).reshape(5, 5)"
   ]
  },
  {
   "cell_type": "code",
   "execution_count": null,
   "id": "b4c950cd",
   "metadata": {},
   "outputs": [],
   "source": []
  }
 ],
 "metadata": {
  "kernelspec": {
   "display_name": "Python 3",
   "language": "python",
   "name": "python3"
  },
  "language_info": {
   "codemirror_mode": {
    "name": "ipython",
    "version": 3
   },
   "file_extension": ".py",
   "mimetype": "text/x-python",
   "name": "python",
   "nbconvert_exporter": "python",
   "pygments_lexer": "ipython3",
   "version": "3.12.5"
  }
 },
 "nbformat": 4,
 "nbformat_minor": 5
}
