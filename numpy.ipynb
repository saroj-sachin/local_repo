{
 "cells": [
  {
   "cell_type": "code",
   "execution_count": 2,
   "id": "4e7e69a1",
   "metadata": {},
   "outputs": [],
   "source": [
    "import numpy as np"
   ]
  },
  {
   "cell_type": "code",
   "execution_count": 26,
   "id": "29c18554",
   "metadata": {},
   "outputs": [
    {
     "data": {
      "text/plain": [
       "2"
      ]
     },
     "execution_count": 26,
     "metadata": {},
     "output_type": "execute_result"
    }
   ],
   "source": [
    "np.random.randint(1, 10)"
   ]
  },
  {
   "cell_type": "code",
   "execution_count": 29,
   "id": "c212caf6",
   "metadata": {},
   "outputs": [
    {
     "data": {
      "text/plain": [
       "array([[-0.3943715 ,  0.33195104,  0.35846644,  0.74488894, -0.64110516],\n",
       "       [ 1.31559025,  0.57985091, -0.68184758,  0.42151133, -0.25909637],\n",
       "       [-0.75417265, -1.82407994,  0.87239039,  0.82692895, -0.04626388],\n",
       "       [-0.08419976, -0.28927778, -1.00454507, -0.88120469, -0.87778749]])"
      ]
     },
     "execution_count": 29,
     "metadata": {},
     "output_type": "execute_result"
    }
   ],
   "source": [
    "np.random.standard_normal(20).reshape(4,5)"
   ]
  },
  {
   "cell_type": "code",
   "execution_count": 30,
   "id": "2ebca61e",
   "metadata": {},
   "outputs": [
    {
     "data": {
      "text/plain": [
       "array([[ 1.21809644,  0.7465356 , -1.43202349, -1.69394645,  0.45003617],\n",
       "       [-1.29843849,  0.99677516,  1.16878103,  1.27828892,  2.39000107],\n",
       "       [ 1.35516218, -1.8416305 ,  0.10500183, -0.0153459 ,  1.15630382],\n",
       "       [ 1.35752461,  0.26176401, -0.70752432,  0.79759233,  0.7461147 ],\n",
       "       [-0.59654717, -0.13459872,  0.00295839, -0.01450619, -0.72143099]])"
      ]
     },
     "execution_count": 30,
     "metadata": {},
     "output_type": "execute_result"
    }
   ],
   "source": [
    "np.random.standard_normal(25).reshape(5, 5)"
   ]
  },
  {
   "cell_type": "code",
   "execution_count": 3,
   "id": "b4c950cd",
   "metadata": {},
   "outputs": [
    {
     "data": {
      "text/plain": [
       "array([[ 0.31217998,  0.46814704,  1.5601521 , -1.71966036,  0.85732391,\n",
       "        -0.55470696,  2.10875169],\n",
       "       [-0.62693093,  1.70103257, -0.57822826,  0.65729103, -0.5058359 ,\n",
       "        -0.17727755,  0.45717829],\n",
       "       [-0.23596078,  1.65562212, -0.5175489 ,  0.10635553,  0.78247417,\n",
       "         2.84048786, -0.13540658],\n",
       "       [ 1.01469098, -1.89628787,  1.00289306, -3.27657734, -0.90993035,\n",
       "         0.59280094, -0.8310904 ],\n",
       "       [-0.95680305, -0.78648814,  1.10107652, -0.01679362,  0.04254964,\n",
       "        -0.70360548, -0.02109528],\n",
       "       [ 0.15953392,  0.36511152,  2.23451836, -0.9964162 , -1.7810945 ,\n",
       "         0.61905046, -0.31547054],\n",
       "       [-1.05967383, -0.59034689,  1.77046308,  1.37377727, -0.38645167,\n",
       "         0.51917233, -1.21160998]])"
      ]
     },
     "execution_count": 3,
     "metadata": {},
     "output_type": "execute_result"
    }
   ],
   "source": [
    "np.random.standard_normal(49).reshape(7, 7)"
   ]
  }
 ],
 "metadata": {
  "kernelspec": {
   "display_name": "Python 3",
   "language": "python",
   "name": "python3"
  },
  "language_info": {
   "codemirror_mode": {
    "name": "ipython",
    "version": 3
   },
   "file_extension": ".py",
   "mimetype": "text/x-python",
   "name": "python",
   "nbconvert_exporter": "python",
   "pygments_lexer": "ipython3",
   "version": "3.12.5"
  }
 },
 "nbformat": 4,
 "nbformat_minor": 5
}
